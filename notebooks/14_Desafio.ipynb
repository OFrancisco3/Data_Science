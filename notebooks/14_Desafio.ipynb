{
  "nbformat": 4,
  "nbformat_minor": 0,
  "metadata": {
    "colab": {
      "provenance": [],
      "authorship_tag": "ABX9TyNOJAUrJP8gEQGQt619gNql",
      "include_colab_link": true
    },
    "kernelspec": {
      "name": "python3",
      "display_name": "Python 3"
    },
    "language_info": {
      "name": "python"
    }
  },
  "cells": [
    {
      "cell_type": "markdown",
      "metadata": {
        "id": "view-in-github",
        "colab_type": "text"
      },
      "source": [
        "<a href=\"https://colab.research.google.com/github/OFrancisco3/Data_Science/blob/main/notebooks/14_Desafio.ipynb\" target=\"_parent\"><img src=\"https://colab.research.google.com/assets/colab-badge.svg\" alt=\"Open In Colab\"/></a>"
      ]
    },
    {
      "cell_type": "markdown",
      "source": [
        "1 - Crea un programa que solicite al usuario que escriba su nombre y luego imprima \"Hola, [nombre].\"\n"
      ],
      "metadata": {
        "id": "zxvGxCxmOyer"
      }
    },
    {
      "cell_type": "code",
      "source": [
        "nombre = input(\"Escribe tu nombre: \")\n",
        "print(\"Hola,\", nombre)"
      ],
      "metadata": {
        "colab": {
          "base_uri": "https://localhost:8080/"
        },
        "id": "_OczBED2O1IT",
        "outputId": "708418d3-8caf-4e61-8a8a-c078947ac40f"
      },
      "execution_count": 1,
      "outputs": [
        {
          "output_type": "stream",
          "name": "stdout",
          "text": [
            "Escribe tu nombre: francisco\n",
            "Hola, francisco\n"
          ]
        }
      ]
    },
    {
      "cell_type": "markdown",
      "source": [
        "2 - Crea un programa que solicite al usuario que escriba su nombre y edad, y luego imprima \"Hola, [nombre], tienes [edad] años.\""
      ],
      "metadata": {
        "id": "pTE6kSrVPAEO"
      }
    },
    {
      "cell_type": "code",
      "source": [
        "nombre = input(\"Escribe tu nombre: \")\n",
        "edad = input(\"Escribe tu edad: \")\n",
        "print(\"Hola,\", nombre, \"tienes\", edad, \"años.\")"
      ],
      "metadata": {
        "colab": {
          "base_uri": "https://localhost:8080/"
        },
        "id": "DIIejn0CPAtt",
        "outputId": "b7bbd617-ec2c-4012-c38a-aeee20ab5309"
      },
      "execution_count": 2,
      "outputs": [
        {
          "output_type": "stream",
          "name": "stdout",
          "text": [
            "Escribe tu nombre: francisco\n",
            "Escribe tu edad: 23\n",
            "Hola, francisco tienes 23 años.\n"
          ]
        }
      ]
    },
    {
      "cell_type": "markdown",
      "source": [
        "3 - Crea un programa que solicite al usuario que escriba su nombre, edad y altura en metros, y luego imprima \"Hola, [nombre], tienes [edad] años y mides [altura] metros.\""
      ],
      "metadata": {
        "id": "CDDxliuKPG6a"
      }
    },
    {
      "cell_type": "code",
      "source": [
        "nombre = input(\"Escribe tu nombre: \")\n",
        "edad = input(\"Escribe tu edad: \")\n",
        "altura = input(\"Escribe tu altura en metros: \")\n",
        "print(\"Hola,\", nombre, \"tienes\", edad, \"años y mides\", altura, \"metros.\")"
      ],
      "metadata": {
        "id": "dEvXmtLFPIYZ"
      },
      "execution_count": null,
      "outputs": []
    },
    {
      "cell_type": "markdown",
      "source": [
        "# Calculadora con operadores"
      ],
      "metadata": {
        "id": "lGv1GIADPN3o"
      }
    },
    {
      "cell_type": "markdown",
      "source": [
        "4 - Crea un programa que solicite dos valores numéricos al usuario y luego imprima la suma de ambos valores."
      ],
      "metadata": {
        "id": "m2_kPX7EPZZN"
      }
    },
    {
      "cell_type": "code",
      "source": [
        "numero_1=input(\"Escribe un numero: \")\n",
        "numero_2=input(\"Escribe otro numero: \")\n",
        "print(\"La suma de ambos numeros es:\", int(numero_1)+int(numero_2))"
      ],
      "metadata": {
        "colab": {
          "base_uri": "https://localhost:8080/"
        },
        "id": "M-EsZAt-Pabk",
        "outputId": "ba5706ae-a911-4f71-9c0f-374f2278bb06"
      },
      "execution_count": 3,
      "outputs": [
        {
          "output_type": "stream",
          "name": "stdout",
          "text": [
            "Escribe un numero: 1\n",
            "Escribe otro numero: 2\n",
            "La suma de ambos numeros es: 3\n"
          ]
        }
      ]
    },
    {
      "cell_type": "markdown",
      "source": [
        "5 - Crea un programa que solicite tres valores numéricos al usuario y luego imprima la suma de los tres valores."
      ],
      "metadata": {
        "id": "76yTPX7qPhUb"
      }
    },
    {
      "cell_type": "code",
      "source": [
        "numero_1=input(\"Escribe un numero: \")\n",
        "numero_2=input(\"Escribe otro numero: \")\n",
        "numero_3=input(\"Escribe otro numero: \")\n",
        "print(\"La suma de los numeros es, \",int(numero_1)+int(numero_2)+int(numero_3))"
      ],
      "metadata": {
        "colab": {
          "base_uri": "https://localhost:8080/"
        },
        "id": "7YNcorZcPixb",
        "outputId": "4cdb6818-d7e1-4fa3-f469-e3c56bff12d4"
      },
      "execution_count": 4,
      "outputs": [
        {
          "output_type": "stream",
          "name": "stdout",
          "text": [
            "Escribe un numero: 1\n",
            "Escribe otro numero: 2\n",
            "Escribe otro numero: 3\n",
            "La suma de los numeros es,  6\n"
          ]
        }
      ]
    },
    {
      "cell_type": "markdown",
      "source": [
        "6 - Crea un programa que solicite dos valores numéricos al usuario y luego imprima la resta del primero menos el segundo valor."
      ],
      "metadata": {
        "id": "cTEGQuSePyYX"
      }
    },
    {
      "cell_type": "code",
      "source": [
        "numero_1=input(\"Escribe un numero: \")\n",
        "numero_2=input(\"Escribe otro numero: \")\n",
        "print(\"La resta de ambos numeros es:\", int(numero_1)-int(numero_2))"
      ],
      "metadata": {
        "colab": {
          "base_uri": "https://localhost:8080/"
        },
        "id": "SFLcmdhaPzAN",
        "outputId": "81d4edfc-57ef-4a3b-f4d3-044c5080ee7f"
      },
      "execution_count": 5,
      "outputs": [
        {
          "output_type": "stream",
          "name": "stdout",
          "text": [
            "Escribe un numero: 5\n",
            "Escribe otro numero: 2\n",
            "La resta de ambos numeros es: 3\n"
          ]
        }
      ]
    },
    {
      "cell_type": "markdown",
      "source": [
        "7 - Crea un programa que solicite dos valores numéricos al usuario y luego imprima la multiplicación de los dos valores."
      ],
      "metadata": {
        "id": "vlQZWhiWP5gk"
      }
    },
    {
      "cell_type": "code",
      "source": [
        "numero_1=input(\"Escribe un numero: \")\n",
        "numero_2=input(\"Escribe otro numero: \")\n",
        "print(\"La multiplicacion de ambos numeros es:\", int(numero_1)*int(numero_2))\n"
      ],
      "metadata": {
        "colab": {
          "base_uri": "https://localhost:8080/"
        },
        "id": "t58eBqCnP6C-",
        "outputId": "a0ed6cec-b35e-4736-bde2-dd0fe5fc489a"
      },
      "execution_count": 6,
      "outputs": [
        {
          "output_type": "stream",
          "name": "stdout",
          "text": [
            "Escribe un numero: 4\n",
            "Escribe otro numero: 2\n",
            "La multiplicacion de ambos numeros es: 8\n"
          ]
        }
      ]
    },
    {
      "cell_type": "markdown",
      "source": [
        "8 - Crea un programa que solicite dos valores numéricos, un numerador y un denominador, y realice la división entre los dos valores. Asegúrate de que el valor del denominador no sea igual a 0."
      ],
      "metadata": {
        "id": "UIqA6IMnQBpp"
      }
    },
    {
      "cell_type": "code",
      "source": [
        "numerador=input(\"Escribe un numero: \")\n",
        "denominador=input(\"Escribe otro numero: \")\n",
        "print(\"La division de ambos numeros es:\", int(numerador)/int(denominador))"
      ],
      "metadata": {
        "colab": {
          "base_uri": "https://localhost:8080/"
        },
        "id": "g2_K9LazQC8w",
        "outputId": "ac7fe712-b3f2-4e59-9b93-b4bed2811f14"
      },
      "execution_count": 7,
      "outputs": [
        {
          "output_type": "stream",
          "name": "stdout",
          "text": [
            "Escribe un numero: 10\n",
            "Escribe otro numero: 2\n",
            "La division de ambos numeros es: 5.0\n"
          ]
        }
      ]
    },
    {
      "cell_type": "markdown",
      "source": [
        "9 - Crea un programa que solicite dos valores numéricos, un operador y una potencia, y realice la exponenciación entre estos dos valores."
      ],
      "metadata": {
        "id": "_vxY34vUQI8H"
      }
    },
    {
      "cell_type": "code",
      "source": [
        "numero_1=input(\"Escribe un numero: \")\n",
        "numero_2=input(\"Escribe otro numero: \")\n",
        "print(\"La exponenciacion de ambos numeros es:\", int(numero_1)**int(numero_2))"
      ],
      "metadata": {
        "colab": {
          "base_uri": "https://localhost:8080/"
        },
        "id": "TIR0hDP1QK77",
        "outputId": "d75d3ac5-d661-4817-b218-db06bda2bc6d"
      },
      "execution_count": 8,
      "outputs": [
        {
          "output_type": "stream",
          "name": "stdout",
          "text": [
            "Escribe un numero: 3\n",
            "Escribe otro numero: 2\n",
            "La exponenciacion de ambos numeros es: 9\n"
          ]
        }
      ]
    },
    {
      "cell_type": "markdown",
      "source": [
        "10 - Crea un programa que solicite dos valores numéricos, un numerador y un denominador, y realice la división entera entre los dos valores. Asegúrate de que el valor del denominador no sea igual a 0."
      ],
      "metadata": {
        "id": "1h9vquZGQRtO"
      }
    },
    {
      "cell_type": "code",
      "source": [
        "numero_1=input(\"Escribe un numero: \")\n",
        "numero_2=input(\"Escribe otro numero: \")\n",
        "if int(numero_2)==0:\n",
        "    print(\"No se puede dividir entre 0\")\n",
        "else:\n",
        "  print(\"La division entera de ambos numeros es:\", int(numero_1)//int(numero_2))"
      ],
      "metadata": {
        "colab": {
          "base_uri": "https://localhost:8080/"
        },
        "id": "Y_C-l1plQTSM",
        "outputId": "51640b36-c7a2-402e-b58f-a5500a73fe5d"
      },
      "execution_count": 10,
      "outputs": [
        {
          "output_type": "stream",
          "name": "stdout",
          "text": [
            "Escribe un numero: 10\n",
            "Escribe otro numero: 5\n",
            "La division entera de ambos numeros es: 2\n"
          ]
        }
      ]
    },
    {
      "cell_type": "markdown",
      "source": [
        "11 - Crea un programa que solicite dos valores numéricos, un numerador y un denominador, y devuelva el resto de la división entre los dos valores. Asegúrate de que el valor del denominador no sea igual a 0."
      ],
      "metadata": {
        "id": "EuQSuICYQpn4"
      }
    },
    {
      "cell_type": "code",
      "source": [
        "numero_1=input(\"Escribe un numero: \")\n",
        "numero_2=input(\"Escribe otro numero: \")\n",
        "if int(numero_2)==0:\n",
        "    print(\"No se puede dividir entre 0\")\n",
        "else:\n",
        "  print(\"El resto de la division de ambos numeros es:\", int(numero_1)%int(numero_2))"
      ],
      "metadata": {
        "colab": {
          "base_uri": "https://localhost:8080/"
        },
        "id": "pNjmJXtKQqNi",
        "outputId": "bab075cd-eec7-4ca6-f16b-f98f1c945480"
      },
      "execution_count": 11,
      "outputs": [
        {
          "output_type": "stream",
          "name": "stdout",
          "text": [
            "Escribe un numero: 5\n",
            "Escribe otro numero: 3\n",
            "La division entera de ambos numeros es: 2\n"
          ]
        }
      ]
    },
    {
      "cell_type": "markdown",
      "source": [
        "12 - Crea un código que solicite las 3 notas de un estudiante e imprima el promedio de las notas."
      ],
      "metadata": {
        "id": "F-m3R8L3Q_JI"
      }
    },
    {
      "cell_type": "code",
      "source": [
        "nota_1=input(\"Escribe la primera nota: \")\n",
        "nota_2=input(\"Escribe la segunda nota: \")\n",
        "nota_3=input(\"Escribe la tercera nota: \")\n",
        "print(\"El promedio de las notas es:\",int(nota_1)+int(nota_2)+int(nota_3)/3)"
      ],
      "metadata": {
        "colab": {
          "base_uri": "https://localhost:8080/"
        },
        "id": "Q7hhHYaEQ_eS",
        "outputId": "ee065045-94ff-4a44-9e52-c4faa0a844ec"
      },
      "execution_count": 12,
      "outputs": [
        {
          "output_type": "stream",
          "name": "stdout",
          "text": [
            "Escribe la primera nota: 20\n",
            "Escribe la segunda nota: 10\n",
            "Escribe la tercera nota: 20\n",
            "El promedio de las notas es: 36.666666666666664\n"
          ]
        }
      ]
    },
    {
      "cell_type": "markdown",
      "source": [
        "13 - Crea un código que calcule e imprima el promedio ponderado de los números 5, 12, 20 y 15 con pesos respectivamente iguales a 1, 2, 3 y 4."
      ],
      "metadata": {
        "id": "Ul142NSGRIP3"
      }
    },
    {
      "cell_type": "code",
      "source": [
        "numero_1=5\n",
        "numero_2=12\n",
        "numero_3=20\n",
        "numero_4=15\n",
        "peso_1=1\n",
        "peso_2=2\n",
        "peso_3=3\n",
        "peso_4=4\n",
        "print(\"El promedio ponderado de los numeros es:\",(numero_1*peso_1+numero_2*peso_2+numero_3*peso_3+numero_4*peso_4)/(peso_1+peso_2+peso_3+peso_4))"
      ],
      "metadata": {
        "colab": {
          "base_uri": "https://localhost:8080/"
        },
        "id": "_VtFSoeJRJxB",
        "outputId": "95b5d32f-a511-4bd3-ee59-ccb95f00c5f9"
      },
      "execution_count": 14,
      "outputs": [
        {
          "output_type": "stream",
          "name": "stdout",
          "text": [
            "El promedio ponderado de los numeros es: 14.9\n"
          ]
        }
      ]
    },
    {
      "cell_type": "markdown",
      "source": [
        "# Editando textos"
      ],
      "metadata": {
        "id": "tDqUD_MFRlfl"
      }
    },
    {
      "cell_type": "markdown",
      "source": [
        "14 - Crea una variable llamada \"frase\" y asígnale una cadena de texto de tu elección. Luego, imprime la frase en pantalla."
      ],
      "metadata": {
        "id": "-5d46XfvRrWC"
      }
    },
    {
      "cell_type": "code",
      "source": [
        "frase='hola mundo'\n",
        "print(frase)"
      ],
      "metadata": {
        "colab": {
          "base_uri": "https://localhost:8080/"
        },
        "id": "8p3I8A2dRr1w",
        "outputId": "80e099b4-b2e4-4905-a20d-2bb7f731d9ad"
      },
      "execution_count": 15,
      "outputs": [
        {
          "output_type": "stream",
          "name": "stdout",
          "text": [
            "hola mundo\n"
          ]
        }
      ]
    },
    {
      "cell_type": "markdown",
      "source": [
        "15 - Crea un código que solicite una frase y luego imprima la frase en pantalla."
      ],
      "metadata": {
        "id": "7iVVksBjS7r7"
      }
    },
    {
      "cell_type": "code",
      "source": [
        "frase=input('escribir una frase: ')\n",
        "print(frase)"
      ],
      "metadata": {
        "colab": {
          "base_uri": "https://localhost:8080/"
        },
        "id": "VdcYYKIjS_aY",
        "outputId": "52df7ab2-053d-45bc-b45b-f9db8b29cfd4"
      },
      "execution_count": 16,
      "outputs": [
        {
          "output_type": "stream",
          "name": "stdout",
          "text": [
            "escribir una frase: hola\n",
            "hola\n"
          ]
        }
      ]
    },
    {
      "cell_type": "markdown",
      "source": [
        "16 - Crea un código que solicite una frase al usuario y luego imprima la misma frase ingresada pero en mayúsculas."
      ],
      "metadata": {
        "id": "RorASX6XTEW8"
      }
    },
    {
      "cell_type": "code",
      "source": [
        "frase=input('escribir una frase: ')\n",
        "print(frase.upper())"
      ],
      "metadata": {
        "colab": {
          "base_uri": "https://localhost:8080/"
        },
        "id": "9gQRBXw1TGTd",
        "outputId": "c744a515-976f-4a84-c0c5-374591386ce4"
      },
      "execution_count": 17,
      "outputs": [
        {
          "output_type": "stream",
          "name": "stdout",
          "text": [
            "escribir una frase: hola\n",
            "HOLA\n"
          ]
        }
      ]
    },
    {
      "cell_type": "markdown",
      "source": [
        "17 - Crea un código que solicite una frase al usuario y luego imprima la misma frase ingresada pero en minúsculas."
      ],
      "metadata": {
        "id": "URyUq2NzUTj3"
      }
    },
    {
      "cell_type": "code",
      "source": [
        "frase=input('escribir una frase: ')\n",
        "print(frase.lower())"
      ],
      "metadata": {
        "colab": {
          "base_uri": "https://localhost:8080/"
        },
        "id": "LQzievsGUU5X",
        "outputId": "ce262be8-1f41-4378-8b98-03ade53afb5c"
      },
      "execution_count": 18,
      "outputs": [
        {
          "output_type": "stream",
          "name": "stdout",
          "text": [
            "escribir una frase: MAINCRAFT\n",
            "maincraft\n"
          ]
        }
      ]
    },
    {
      "cell_type": "markdown",
      "source": [
        "18 - Crea una variable llamada \"frase\" y asígnale una cadena de texto de tu elección. Luego, imprime la frase sin espacios en blanco al principio y al final."
      ],
      "metadata": {
        "id": "V6Ulp2RTUeBV"
      }
    },
    {
      "cell_type": "code",
      "source": [
        "frase=' hOla mundo   '\n",
        "print(frase.strip())"
      ],
      "metadata": {
        "colab": {
          "base_uri": "https://localhost:8080/"
        },
        "id": "tHz5tmMqUfn9",
        "outputId": "48a007ed-5e5d-4d87-9467-d64dff3d7a28"
      },
      "execution_count": 19,
      "outputs": [
        {
          "output_type": "stream",
          "name": "stdout",
          "text": [
            "hOla mundo\n"
          ]
        }
      ]
    },
    {
      "cell_type": "markdown",
      "source": [
        "19 - Crea un código que solicite una frase al usuario y luego imprima la misma frase sin espacios en blanco al principio y al final."
      ],
      "metadata": {
        "id": "ztkckg5-U3Yh"
      }
    },
    {
      "cell_type": "code",
      "source": [
        "frase=input('escribir una frase: ')\n",
        "print(frase.strip())"
      ],
      "metadata": {
        "colab": {
          "base_uri": "https://localhost:8080/"
        },
        "id": "PjEed7z9U6Dk",
        "outputId": "1b0c1559-4b08-485d-9d78-86561a6f6568"
      },
      "execution_count": 20,
      "outputs": [
        {
          "output_type": "stream",
          "name": "stdout",
          "text": [
            "escribir una frase:           hola\n",
            "hola\n"
          ]
        }
      ]
    },
    {
      "cell_type": "markdown",
      "source": [
        "20 - Crea un código que solicite una frase al usuario y luego imprima la misma frase sin espacios en blanco al principio y al final, además de convertirla a minúsculas."
      ],
      "metadata": {
        "id": "mVlyI3QWVAP5"
      }
    },
    {
      "cell_type": "code",
      "source": [
        "frase=input('escribir una frase: ')\n",
        "print(frase.lower().strip())"
      ],
      "metadata": {
        "colab": {
          "base_uri": "https://localhost:8080/"
        },
        "id": "WpqKk8xBVBxu",
        "outputId": "0177c6cf-3a6e-4818-920a-d31fb2c1e947"
      },
      "execution_count": 22,
      "outputs": [
        {
          "output_type": "stream",
          "name": "stdout",
          "text": [
            "escribir una frase:                    HOLA\n",
            "hola\n"
          ]
        }
      ]
    },
    {
      "cell_type": "markdown",
      "source": [
        "21 - Crea un código que solicite una frase al usuario y luego imprima la misma frase con todas las vocales \"e\" reemplazadas por la letra \"f\"."
      ],
      "metadata": {
        "id": "HqFy-toOVTi5"
      }
    },
    {
      "cell_type": "code",
      "source": [
        "frase=input('escribir una frase: ')\n",
        "print(frase.replace('e','f'))"
      ],
      "metadata": {
        "colab": {
          "base_uri": "https://localhost:8080/"
        },
        "id": "4SAKa4uKVVKZ",
        "outputId": "a845566a-5252-4f5b-b0a0-d1854f26159a"
      },
      "execution_count": 23,
      "outputs": [
        {
          "output_type": "stream",
          "name": "stdout",
          "text": [
            "escribir una frase: leandro\n",
            "lfandro\n"
          ]
        }
      ]
    },
    {
      "cell_type": "markdown",
      "source": [
        "22 - Crea un código que solicite una frase al usuario y luego imprima la misma frase con todas las vocales \"a\" reemplazadas por el carácter \"@\"."
      ],
      "metadata": {
        "id": "B9b_g6O5Vd-m"
      }
    },
    {
      "cell_type": "code",
      "source": [
        "frase=input('escribir una frase: ')\n",
        "print(frase.replace('a','@'))"
      ],
      "metadata": {
        "colab": {
          "base_uri": "https://localhost:8080/"
        },
        "id": "nYsdawoPVfjh",
        "outputId": "936e71b8-0964-4c59-c466-7a961b53ae3a"
      },
      "execution_count": 24,
      "outputs": [
        {
          "output_type": "stream",
          "name": "stdout",
          "text": [
            "escribir una frase: hola\n",
            "hol@\n"
          ]
        }
      ]
    },
    {
      "cell_type": "markdown",
      "source": [
        "23 - Crea un código que solicite una frase al usuario y luego imprima la misma frase con todas las consonantes \"s\" reemplazadas por el carácter \"$\"."
      ],
      "metadata": {
        "id": "Hbe15zK6VklR"
      }
    },
    {
      "cell_type": "code",
      "source": [
        "frase=input('escribir una frase: ')\n",
        "print(frase.replace('a','$'))"
      ],
      "metadata": {
        "colab": {
          "base_uri": "https://localhost:8080/"
        },
        "id": "G66SiPtgVmVI",
        "outputId": "2afa4cb2-fc2f-4fe1-df8e-82b5903d59d3"
      },
      "execution_count": 25,
      "outputs": [
        {
          "output_type": "stream",
          "name": "stdout",
          "text": [
            "escribir una frase: hola\n",
            "hol$\n"
          ]
        }
      ]
    }
  ]
}