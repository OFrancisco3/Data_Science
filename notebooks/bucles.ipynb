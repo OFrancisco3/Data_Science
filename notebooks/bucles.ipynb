{
  "nbformat": 4,
  "nbformat_minor": 0,
  "metadata": {
    "colab": {
      "provenance": [],
      "authorship_tag": "ABX9TyNjPIXm+JrjzflhqUGHPSPZ",
      "include_colab_link": true
    },
    "kernelspec": {
      "name": "python3",
      "display_name": "Python 3"
    },
    "language_info": {
      "name": "python"
    }
  },
  "cells": [
    {
      "cell_type": "markdown",
      "metadata": {
        "id": "view-in-github",
        "colab_type": "text"
      },
      "source": [
        "<a href=\"https://colab.research.google.com/github/OFrancisco3/Data_Science/blob/main/notebooks/bucles.ipynb\" target=\"_parent\"><img src=\"https://colab.research.google.com/assets/colab-badge.svg\" alt=\"Open In Colab\"/></a>"
      ]
    },
    {
      "cell_type": "code",
      "execution_count": null,
      "metadata": {
        "id": "GRxj2vclnbIk"
      },
      "outputs": [],
      "source": []
    },
    {
      "cell_type": "markdown",
      "source": [
        "# Entrenando la programación"
      ],
      "metadata": {
        "id": "6emJd9mdngzV"
      }
    },
    {
      "cell_type": "markdown",
      "source": [
        "1 - Escribe un programa que solicite dos números enteros e imprima todos los números enteros entre ellos."
      ],
      "metadata": {
        "id": "b5Yjvt9mnttO"
      }
    },
    {
      "cell_type": "code",
      "source": [
        "numero_1=int(input(\"Ingrese el primer número: \"))\n",
        "numero_2=int(input(\"Ingrese el segundo número: \"))\n",
        "if numero_1 <= numero_2:\n",
        "    for i in range(numero_1+1,numero_2):\n",
        "        print(i)\n",
        "else:\n",
        "    for i in range(numero_2+1,numero_1):\n",
        "        print(i)"
      ],
      "metadata": {
        "colab": {
          "base_uri": "https://localhost:8080/"
        },
        "id": "HLm_bIsUnvEb",
        "outputId": "7abbb997-d195-440d-db26-19735b2e9741"
      },
      "execution_count": 4,
      "outputs": [
        {
          "output_type": "stream",
          "name": "stdout",
          "text": [
            "Ingrese el primer número: 5\n",
            "Ingrese el segundo número: 9\n",
            "6\n",
            "7\n",
            "8\n"
          ]
        }
      ]
    },
    {
      "cell_type": "markdown",
      "source": [
        "2 - Escribe un programa para calcular cuántos días tomará que la colonia de una bacteria A supere o iguale a la colonia de una bacteria B, basado en tasas de crecimiento del 3% y 1.5%, respectivamente. Supón que la colonia A comienza con 4 elementos y B con 10."
      ],
      "metadata": {
        "id": "n4sPmCIGrTcN"
      }
    },
    {
      "cell_type": "code",
      "source": [
        "colonia_a=4\n",
        "colonia_b=10\n",
        "dias = 0\n",
        "while colonia_a <= colonia_b:\n",
        "    colonia_a = colonia_a * 1.03\n",
        "    colonia_b = colonia_b * 1.015\n",
        "    dias += 1\n",
        "print(f'hola, {dias} días')"
      ],
      "metadata": {
        "colab": {
          "base_uri": "https://localhost:8080/"
        },
        "id": "t3R4pJlerUtD",
        "outputId": "88358aa8-7008-4187-fb21-67d5d03d0dba"
      },
      "execution_count": 10,
      "outputs": [
        {
          "output_type": "stream",
          "name": "stdout",
          "text": [
            "hola, 63 días\n"
          ]
        }
      ]
    },
    {
      "cell_type": "markdown",
      "source": [
        "3 - Para procesar una cantidad de 15 datos de evaluaciones de usuarios de un servicio de la empresa, necesitamos verificar si las calificaciones son válidas. Por lo tanto, escribe un programa que recibirá calificaciones del 0 al 5 y verificará si son valores válidos. Si se ingresa una calificación superior a 5 o inferior a 0, se repetirá hasta que el usuario ingrese un valor válido."
      ],
      "metadata": {
        "id": "Xm3TijmrtAqh"
      }
    },
    {
      "cell_type": "code",
      "source": [
        "for i in range(15):\n",
        "  calificacion=int(input(\"Ingrese una calificación: \"))\n",
        "  while calificacion < 0 or calificacion > 5:\n",
        "      calificacion=int(input(\"Ingrese una calificación CORRECTA: \"))"
      ],
      "metadata": {
        "colab": {
          "base_uri": "https://localhost:8080/"
        },
        "id": "WwbfpB40tBSJ",
        "outputId": "c8ca9678-0b11-4f0e-d120-25aebec4fa93"
      },
      "execution_count": 14,
      "outputs": [
        {
          "name": "stdout",
          "output_type": "stream",
          "text": [
            "Ingrese una calificación: 8\n",
            "Ingrese una calificación CORRECTA: 3\n",
            "Ingrese una calificación: 1\n",
            "Ingrese una calificación: -8\n",
            "Ingrese una calificación CORRECTA: 1\n",
            "Ingrese una calificación: 2\n",
            "Ingrese una calificación: 3\n",
            "Ingrese una calificación: 4\n",
            "Ingrese una calificación: 5\n",
            "Ingrese una calificación: 1\n",
            "Ingrese una calificación: 2\n",
            "Ingrese una calificación: 3\n",
            "Ingrese una calificación: 4\n",
            "Ingrese una calificación: 5\n",
            "Ingrese una calificación: 1\n",
            "Ingrese una calificación: 2\n",
            "Ingrese una calificación: 3\n"
          ]
        }
      ]
    },
    {
      "cell_type": "markdown",
      "source": [
        "4 - Desarrolla un programa que lea un conjunto indefinido de temperaturas en grados Celsius y calcule su promedio. La lectura debe detenerse al ingresar el valor -273°C."
      ],
      "metadata": {
        "id": "6QG4yl6Hvfeb"
      }
    },
    {
      "cell_type": "code",
      "source": [
        "numero_de_temperaturas=int(input(\"Ingrese el número de temperaturas: \"))\n",
        "suma_de_temperaturas=0\n",
        "for i in range(numero_de_temperaturas):\n",
        "    temperatura=float(input(\"Ingrese la temperatura: \"))\n",
        "    if temperatura == -273:\n",
        "        break\n",
        "    suma_de_temperaturas+=temperatura\n",
        "    promedio=suma_de_temperaturas/numero_de_temperaturas\n",
        "\n",
        "if(temperatura==-273):\n",
        "    print(\"No se ingresaron temperaturas válidas usted ingreso -273\")\n",
        "else:\n",
        "    print(\"El promedio de las temperaturas es: \", promedio)\n",
        ""
      ],
      "metadata": {
        "colab": {
          "base_uri": "https://localhost:8080/"
        },
        "id": "E8YzmwjFvgH6",
        "outputId": "c6532f80-9e61-434a-a187-92b4cfccbc7d"
      },
      "execution_count": 21,
      "outputs": [
        {
          "output_type": "stream",
          "name": "stdout",
          "text": [
            "Ingrese el número de temperaturas: 3\n",
            "Ingrese la temperatura: -273\n",
            "No se ingresaron temperaturas válidas usted ingreso -273\n"
          ]
        }
      ]
    },
    {
      "cell_type": "markdown",
      "source": [
        "5 - Escribe un programa que calcule el factorial de un número entero proporcionado por el usuario. Recuerda que el factorial de un número entero es el producto de ese número por todos sus antecesores hasta llegar al número 1. Por ejemplo, el factorial de 5 es 5 x 4 x 3 x 2 x 1 = 120."
      ],
      "metadata": {
        "id": "O5HV37Wk6n9y"
      }
    },
    {
      "cell_type": "code",
      "source": [
        "numero=int(input(\"Ingrese un número: \"))\n",
        "factorial=1\n",
        "for i in range(1,numero+1):\n",
        "    factorial*=i\n",
        "print(\"El factorial de \",numero,\" es: \",factorial)"
      ],
      "metadata": {
        "colab": {
          "base_uri": "https://localhost:8080/"
        },
        "id": "XC9TljSx6ods",
        "outputId": "a4aadd91-7bce-4607-8b64-dff3f3317138"
      },
      "execution_count": 22,
      "outputs": [
        {
          "output_type": "stream",
          "name": "stdout",
          "text": [
            "Ingrese un número: 5\n",
            "El factorial de  5  es:  120\n"
          ]
        }
      ]
    },
    {
      "cell_type": "markdown",
      "source": [
        "6 - Escribe un programa que genere la tabla de multiplicar de un número entero del 1 al 10, según la elección del usuario. Como ejemplo, para el número 2, la tabla de multiplicar debe mostrarse en el siguiente formato:"
      ],
      "metadata": {
        "id": "mZGYFy6h_d9k"
      }
    },
    {
      "cell_type": "code",
      "source": [
        "numero = int(input(\"digite un numero: \"))\n",
        "for i in range(1,11):\n",
        "    print(numero,\"x\",i,\"=\",numero*i)"
      ],
      "metadata": {
        "colab": {
          "base_uri": "https://localhost:8080/"
        },
        "id": "GbvYo-t9_xrU",
        "outputId": "bc52e739-e41b-4d9c-9fe7-ef8f01058731"
      },
      "execution_count": 26,
      "outputs": [
        {
          "output_type": "stream",
          "name": "stdout",
          "text": [
            "digite un numero: 5\n",
            "5 x 1 = 5\n",
            "5 x 2 = 10\n",
            "5 x 3 = 15\n",
            "5 x 4 = 20\n",
            "5 x 5 = 25\n",
            "5 x 6 = 30\n",
            "5 x 7 = 35\n",
            "5 x 8 = 40\n",
            "5 x 9 = 45\n",
            "5 x 10 = 50\n"
          ]
        }
      ]
    },
    {
      "cell_type": "markdown",
      "source": [
        "7 - Los números primos tienen diversas aplicaciones en Ciencia de Datos, como en criptografía y seguridad. Un número primo es aquel que es divisible solo por sí mismo y por 1. Por lo tanto, crea un programa que solicite un número entero y determine si es un número primo o no."
      ],
      "metadata": {
        "id": "GIvUzeY5AnMP"
      }
    },
    {
      "cell_type": "code",
      "source": [
        "numero=int(input(\"Ingrese un número: \"))\n",
        "es_primo=True\n",
        "for i in range(2,numero):\n",
        "    if numero%i==0:\n",
        "        es_primo=False\n",
        "        break\n",
        "if es_primo:\n",
        "    print(\"El número es primo\")\n",
        "else:\n",
        "    print(\"El número no es primo\")"
      ],
      "metadata": {
        "colab": {
          "base_uri": "https://localhost:8080/"
        },
        "id": "e2xWm4ocA09g",
        "outputId": "1d1e1241-7b79-4312-b734-8ed8cec2265a"
      },
      "execution_count": 29,
      "outputs": [
        {
          "output_type": "stream",
          "name": "stdout",
          "text": [
            "Ingrese un número: 12\n",
            "El número no es primo\n"
          ]
        }
      ]
    },
    {
      "cell_type": "markdown",
      "source": [
        "8 - Vamos a comprender la distribución de edades de los pensionistas de una empresa de seguros. Escribe un programa que lea las edades de una cantidad no informada de clientes y muestre la distribución en los intervalos [0-25], [26-50], [51-75] y [76-100]. La entrada de datos se detendrá al ingresar un número negativo."
      ],
      "metadata": {
        "id": "QYOJ7ydkBiHA"
      }
    },
    {
      "cell_type": "code",
      "source": [
        "cantidad_de_clientes=int(input(\"Ingrese la cantidad de clientes: \"))\n",
        "edades=[]\n",
        "for i in range(cantidad_de_clientes):\n",
        "    edad=int(input(\"Ingrese la edad del cliente: \"))\n",
        "    edades.append(edad)\n",
        "    if edad<0:\n",
        "        break"
      ],
      "metadata": {
        "colab": {
          "base_uri": "https://localhost:8080/"
        },
        "id": "Jju_5WefBixi",
        "outputId": "31534536-0a0d-47f6-cf6b-6d1be2ebf64f"
      },
      "execution_count": 32,
      "outputs": [
        {
          "name": "stdout",
          "output_type": "stream",
          "text": [
            "Ingrese la cantidad de clientes: 4\n",
            "Ingrese la edad del cliente: 8\n",
            "Ingrese la edad del cliente: -7\n"
          ]
        }
      ]
    },
    {
      "cell_type": "markdown",
      "source": [
        "9 - En una elección para la gerencia de una empresa con 20 empleados, hay cuatro candidatos. Escribe un programa que calcule al ganador de la elección. La votación se realizó de la siguiente manera:\n",
        "Cada empleado votó por uno de los cuatro candidatos (representados por los números 1, 2, 3 y 4).\n",
        "\n",
        "También se contaron los votos nulos (representados por el número 5) y los votos en blanco (representados por el número 6).\n",
        "\n",
        "Al final de la votación, el programa debe mostrar el número total de votos para cada candidato, los votos nulos y los votos en blanco. Además, debe calcular y mostrar el porcentaje de votos nulos con respecto al total de votos y el porcentaje de votos en blanco con respecto al total de votos."
      ],
      "metadata": {
        "id": "flJnJwgnDDLp"
      }
    },
    {
      "cell_type": "code",
      "source": [
        "votos_candidatos = [0] * 4\n",
        "votos_nulos = 0\n",
        "votos_blancos = 0\n",
        "\n",
        "for i in range(20):\n",
        "    voto = int(input(f\"Ingrese el voto del empleado {i+1} (1-4 para candidatos, 5 para nulo, 6 para blanco): \"))\n",
        "    while voto < 1 or voto > 6:\n",
        "        voto = int(input(f\"Voto inválido. Ingrese el voto del empleado {i+1} nuevamente (1-4 para candidatos, 5 para nulo, 6 para blanco): \"))\n",
        "\n",
        "    if 1 <= voto <= 4:\n",
        "        votos_candidatos[voto - 1] += 1\n",
        "    elif voto == 5:\n",
        "        votos_nulos += 1\n",
        "    else:\n",
        "        votos_blancos += 1\n",
        "\n",
        "print(\"\\n********Resultados de la elección:********\")\n",
        "for i in range(4):\n",
        "    print(f\"Candidato {i+1}: {votos_candidatos[i]} votos\")\n",
        "print(f\"Votos nulos: {votos_nulos}\")\n",
        "print(f\"Votos en blanco: {votos_blancos}\")\n",
        "\n",
        "total_votos = sum(votos_candidatos) + votos_nulos + votos_blancos\n",
        "porcentaje_nulos = (votos_nulos / total_votos) * 100\n",
        "porcentaje_blancos = (votos_blancos / total_votos) * 100\n",
        "\n",
        "print(f\"Porcentaje de votos nulos: {porcentaje_nulos:.2f}%\")\n",
        "print(f\"Porcentaje de votos en blanco: {porcentaje_blancos:.2f}%\")\n",
        "\n",
        "# Determinar el ganador\n",
        "ganador = votos_candidatos.index(max(votos_candidatos)) + 1\n",
        "print(f\"\\nEl candidato ganador es el candidato {ganador} con {max(votos_candidatos)} votos.\")\n"
      ],
      "metadata": {
        "colab": {
          "base_uri": "https://localhost:8080/"
        },
        "id": "JXxjUGL6DDuJ",
        "outputId": "217a3206-f396-45bf-aa9c-265e4d6c88ef"
      },
      "execution_count": 33,
      "outputs": [
        {
          "output_type": "stream",
          "name": "stdout",
          "text": [
            "Ingrese el voto del empleado 1 (1-4 para candidatos, 5 para nulo, 6 para blanco): 1\n",
            "Ingrese el voto del empleado 2 (1-4 para candidatos, 5 para nulo, 6 para blanco): 1\n",
            "Ingrese el voto del empleado 3 (1-4 para candidatos, 5 para nulo, 6 para blanco): 1\n",
            "Ingrese el voto del empleado 4 (1-4 para candidatos, 5 para nulo, 6 para blanco): 1\n",
            "Ingrese el voto del empleado 5 (1-4 para candidatos, 5 para nulo, 6 para blanco): 1\n",
            "Ingrese el voto del empleado 6 (1-4 para candidatos, 5 para nulo, 6 para blanco): 1\n",
            "Ingrese el voto del empleado 7 (1-4 para candidatos, 5 para nulo, 6 para blanco): 2\n",
            "Ingrese el voto del empleado 8 (1-4 para candidatos, 5 para nulo, 6 para blanco): 2\n",
            "Ingrese el voto del empleado 9 (1-4 para candidatos, 5 para nulo, 6 para blanco): 2\n",
            "Ingrese el voto del empleado 10 (1-4 para candidatos, 5 para nulo, 6 para blanco): 5\n",
            "Ingrese el voto del empleado 11 (1-4 para candidatos, 5 para nulo, 6 para blanco): 6\n",
            "Ingrese el voto del empleado 12 (1-4 para candidatos, 5 para nulo, 6 para blanco): 6\n",
            "Ingrese el voto del empleado 13 (1-4 para candidatos, 5 para nulo, 6 para blanco): 6\n",
            "Ingrese el voto del empleado 14 (1-4 para candidatos, 5 para nulo, 6 para blanco): 1\n",
            "Ingrese el voto del empleado 15 (1-4 para candidatos, 5 para nulo, 6 para blanco): 3\n",
            "Ingrese el voto del empleado 16 (1-4 para candidatos, 5 para nulo, 6 para blanco): 4\n",
            "Ingrese el voto del empleado 17 (1-4 para candidatos, 5 para nulo, 6 para blanco): 5\n",
            "Ingrese el voto del empleado 18 (1-4 para candidatos, 5 para nulo, 6 para blanco): 6\n",
            "Ingrese el voto del empleado 19 (1-4 para candidatos, 5 para nulo, 6 para blanco): 1\n",
            "Ingrese el voto del empleado 20 (1-4 para candidatos, 5 para nulo, 6 para blanco): 1\n",
            "\n",
            "Resultados de la elección:\n",
            "Candidato 1: 9 votos\n",
            "Candidato 2: 3 votos\n",
            "Candidato 3: 1 votos\n",
            "Candidato 4: 1 votos\n",
            "Votos nulos: 2\n",
            "Votos en blanco: 4\n",
            "Porcentaje de votos nulos: 10.00%\n",
            "Porcentaje de votos en blanco: 20.00%\n",
            "\n",
            "El candidato ganador es el candidato 1 con 9 votos.\n"
          ]
        }
      ]
    }
  ]
}