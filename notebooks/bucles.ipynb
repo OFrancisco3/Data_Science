{
  "nbformat": 4,
  "nbformat_minor": 0,
  "metadata": {
    "colab": {
      "provenance": [],
      "authorship_tag": "ABX9TyM+t42L8awJHxztLVs1nk87",
      "include_colab_link": true
    },
    "kernelspec": {
      "name": "python3",
      "display_name": "Python 3"
    },
    "language_info": {
      "name": "python"
    }
  },
  "cells": [
    {
      "cell_type": "markdown",
      "metadata": {
        "id": "view-in-github",
        "colab_type": "text"
      },
      "source": [
        "<a href=\"https://colab.research.google.com/github/OFrancisco3/Data_Science/blob/main/notebooks/bucles.ipynb\" target=\"_parent\"><img src=\"https://colab.research.google.com/assets/colab-badge.svg\" alt=\"Open In Colab\"/></a>"
      ]
    },
    {
      "cell_type": "code",
      "execution_count": null,
      "metadata": {
        "id": "GRxj2vclnbIk"
      },
      "outputs": [],
      "source": []
    },
    {
      "cell_type": "markdown",
      "source": [
        "# Entrenando la programación"
      ],
      "metadata": {
        "id": "6emJd9mdngzV"
      }
    },
    {
      "cell_type": "markdown",
      "source": [
        "1 - Escribe un programa que solicite dos números enteros e imprima todos los números enteros entre ellos."
      ],
      "metadata": {
        "id": "b5Yjvt9mnttO"
      }
    },
    {
      "cell_type": "code",
      "source": [
        "numero_1=int(input(\"Ingrese el primer número: \"))\n",
        "numero_2=int(input(\"Ingrese el segundo número: \"))\n",
        "if numero_1 <= numero_2:\n",
        "    for i in range(numero_1+1,numero_2):\n",
        "        print(i)\n",
        "else:\n",
        "    for i in range(numero_2+1,numero_1):\n",
        "        print(i)"
      ],
      "metadata": {
        "colab": {
          "base_uri": "https://localhost:8080/"
        },
        "id": "HLm_bIsUnvEb",
        "outputId": "7abbb997-d195-440d-db26-19735b2e9741"
      },
      "execution_count": 4,
      "outputs": [
        {
          "output_type": "stream",
          "name": "stdout",
          "text": [
            "Ingrese el primer número: 5\n",
            "Ingrese el segundo número: 9\n",
            "6\n",
            "7\n",
            "8\n"
          ]
        }
      ]
    },
    {
      "cell_type": "markdown",
      "source": [
        "2 - Escribe un programa para calcular cuántos días tomará que la colonia de una bacteria A supere o iguale a la colonia de una bacteria B, basado en tasas de crecimiento del 3% y 1.5%, respectivamente. Supón que la colonia A comienza con 4 elementos y B con 10."
      ],
      "metadata": {
        "id": "n4sPmCIGrTcN"
      }
    },
    {
      "cell_type": "code",
      "source": [
        "colonia_a=4\n",
        "colonia_b=10\n",
        "dias = 0\n",
        "while colonia_a <= colonia_b:\n",
        "    colonia_a = colonia_a * 1.03\n",
        "    colonia_b = colonia_b * 1.015\n",
        "    dias += 1\n",
        "print(f'hola, {dias} días')"
      ],
      "metadata": {
        "colab": {
          "base_uri": "https://localhost:8080/"
        },
        "id": "t3R4pJlerUtD",
        "outputId": "88358aa8-7008-4187-fb21-67d5d03d0dba"
      },
      "execution_count": 10,
      "outputs": [
        {
          "output_type": "stream",
          "name": "stdout",
          "text": [
            "hola, 63 días\n"
          ]
        }
      ]
    },
    {
      "cell_type": "markdown",
      "source": [
        "3 - Para procesar una cantidad de 15 datos de evaluaciones de usuarios de un servicio de la empresa, necesitamos verificar si las calificaciones son válidas. Por lo tanto, escribe un programa que recibirá calificaciones del 0 al 5 y verificará si son valores válidos. Si se ingresa una calificación superior a 5 o inferior a 0, se repetirá hasta que el usuario ingrese un valor válido."
      ],
      "metadata": {
        "id": "Xm3TijmrtAqh"
      }
    },
    {
      "cell_type": "code",
      "source": [
        "for i in range(15):\n",
        "  calificacion=int(input(\"Ingrese una calificación: \"))\n",
        "  while calificacion < 0 or calificacion > 5:\n",
        "      calificacion=int(input(\"Ingrese una calificación CORRECTA: \"))"
      ],
      "metadata": {
        "colab": {
          "base_uri": "https://localhost:8080/"
        },
        "id": "WwbfpB40tBSJ",
        "outputId": "c8ca9678-0b11-4f0e-d120-25aebec4fa93"
      },
      "execution_count": 14,
      "outputs": [
        {
          "name": "stdout",
          "output_type": "stream",
          "text": [
            "Ingrese una calificación: 8\n",
            "Ingrese una calificación CORRECTA: 3\n",
            "Ingrese una calificación: 1\n",
            "Ingrese una calificación: -8\n",
            "Ingrese una calificación CORRECTA: 1\n",
            "Ingrese una calificación: 2\n",
            "Ingrese una calificación: 3\n",
            "Ingrese una calificación: 4\n",
            "Ingrese una calificación: 5\n",
            "Ingrese una calificación: 1\n",
            "Ingrese una calificación: 2\n",
            "Ingrese una calificación: 3\n",
            "Ingrese una calificación: 4\n",
            "Ingrese una calificación: 5\n",
            "Ingrese una calificación: 1\n",
            "Ingrese una calificación: 2\n",
            "Ingrese una calificación: 3\n"
          ]
        }
      ]
    },
    {
      "cell_type": "markdown",
      "source": [
        "4 - Desarrolla un programa que lea un conjunto indefinido de temperaturas en grados Celsius y calcule su promedio. La lectura debe detenerse al ingresar el valor -273°C."
      ],
      "metadata": {
        "id": "6QG4yl6Hvfeb"
      }
    },
    {
      "cell_type": "code",
      "source": [
        "numero_de_temperaturas=int(input(\"Ingrese el número de temperaturas: \"))\n",
        "suma_de_temperaturas=0\n",
        "for i in range(numero_de_temperaturas):\n",
        "    temperatura=float(input(\"Ingrese la temperatura: \"))\n",
        "    if temperatura == -273:\n",
        "        break\n",
        "    suma_de_temperaturas+=temperatura\n",
        "    promedio=suma_de_temperaturas/numero_de_temperaturas\n",
        "\n",
        "if(temperatura==-273):\n",
        "    print(\"No se ingresaron temperaturas válidas usted ingreso -273\")\n",
        "else:\n",
        "    print(\"El promedio de las temperaturas es: \", promedio)\n",
        ""
      ],
      "metadata": {
        "colab": {
          "base_uri": "https://localhost:8080/"
        },
        "id": "E8YzmwjFvgH6",
        "outputId": "c6532f80-9e61-434a-a187-92b4cfccbc7d"
      },
      "execution_count": 21,
      "outputs": [
        {
          "output_type": "stream",
          "name": "stdout",
          "text": [
            "Ingrese el número de temperaturas: 3\n",
            "Ingrese la temperatura: -273\n",
            "No se ingresaron temperaturas válidas usted ingreso -273\n"
          ]
        }
      ]
    },
    {
      "cell_type": "markdown",
      "source": [
        "5 - Escribe un programa que calcule el factorial de un número entero proporcionado por el usuario. Recuerda que el factorial de un número entero es el producto de ese número por todos sus antecesores hasta llegar al número 1. Por ejemplo, el factorial de 5 es 5 x 4 x 3 x 2 x 1 = 120."
      ],
      "metadata": {
        "id": "O5HV37Wk6n9y"
      }
    },
    {
      "cell_type": "code",
      "source": [
        "numero=int(input(\"Ingrese un número: \"))\n",
        "factorial=1\n",
        "for i in range(1,numero+1):\n",
        "    factorial*=i\n",
        "print(\"El factorial de \",numero,\" es: \",factorial)"
      ],
      "metadata": {
        "colab": {
          "base_uri": "https://localhost:8080/"
        },
        "id": "XC9TljSx6ods",
        "outputId": "a4aadd91-7bce-4607-8b64-dff3f3317138"
      },
      "execution_count": 22,
      "outputs": [
        {
          "output_type": "stream",
          "name": "stdout",
          "text": [
            "Ingrese un número: 5\n",
            "El factorial de  5  es:  120\n"
          ]
        }
      ]
    },
    {
      "cell_type": "markdown",
      "source": [
        "6 - Escribe un programa que genere la tabla de multiplicar de un número entero del 1 al 10, según la elección del usuario. Como ejemplo, para el número 2, la tabla de multiplicar debe mostrarse en el siguiente formato:"
      ],
      "metadata": {
        "id": "mZGYFy6h_d9k"
      }
    },
    {
      "cell_type": "code",
      "source": [
        "numero = int(input(\"digite un numero: \"))\n",
        "for i in range(1,11):\n",
        "    print(numero,\"x\",i,\"=\",numero*i)"
      ],
      "metadata": {
        "colab": {
          "base_uri": "https://localhost:8080/"
        },
        "id": "GbvYo-t9_xrU",
        "outputId": "bc52e739-e41b-4d9c-9fe7-ef8f01058731"
      },
      "execution_count": 26,
      "outputs": [
        {
          "output_type": "stream",
          "name": "stdout",
          "text": [
            "digite un numero: 5\n",
            "5 x 1 = 5\n",
            "5 x 2 = 10\n",
            "5 x 3 = 15\n",
            "5 x 4 = 20\n",
            "5 x 5 = 25\n",
            "5 x 6 = 30\n",
            "5 x 7 = 35\n",
            "5 x 8 = 40\n",
            "5 x 9 = 45\n",
            "5 x 10 = 50\n"
          ]
        }
      ]
    },
    {
      "cell_type": "markdown",
      "source": [
        "7 - Los números primos tienen diversas aplicaciones en Ciencia de Datos, como en criptografía y seguridad. Un número primo es aquel que es divisible solo por sí mismo y por 1. Por lo tanto, crea un programa que solicite un número entero y determine si es un número primo o no."
      ],
      "metadata": {
        "id": "GIvUzeY5AnMP"
      }
    }
  ]
}